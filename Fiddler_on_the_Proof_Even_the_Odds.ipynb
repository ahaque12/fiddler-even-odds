{
  "nbformat": 4,
  "nbformat_minor": 0,
  "metadata": {
    "colab": {
      "provenance": [],
      "authorship_tag": "ABX9TyONabQgy5PffN90sZzZtRpI",
      "include_colab_link": true
    },
    "kernelspec": {
      "name": "python3",
      "display_name": "Python 3"
    },
    "language_info": {
      "name": "python"
    }
  },
  "cells": [
    {
      "cell_type": "markdown",
      "metadata": {
        "id": "view-in-github",
        "colab_type": "text"
      },
      "source": [
        "<a href=\"https://colab.research.google.com/github/ahaque12/fiddler-even-odds/blob/main/Fiddler_on_the_Proof_Even_the_Odds.ipynb\" target=\"_parent\"><img src=\"https://colab.research.google.com/assets/colab-badge.svg\" alt=\"Open In Colab\"/></a>"
      ]
    },
    {
      "cell_type": "markdown",
      "source": [
        "# Fiddler on the Proof - Even the Odds\n",
        "\n",
        "https://thefiddler.substack.com/p/can-you-even-the-odds"
      ],
      "metadata": {
        "id": "c3JH_fV0-eAN"
      }
    },
    {
      "cell_type": "code",
      "execution_count": 1,
      "metadata": {
        "id": "_XW-zB4zRZUl"
      },
      "outputs": [],
      "source": [
        "import random\n",
        "\n",
        "def game(generator, p):\n",
        "  \"\"\"Simulate a game with two players. Each player takes turns, the next\n",
        "  item in generator says if it is player 0's turn or player 1's turn.\n",
        "  When it is their turn they have p probability of winning. The game ends as soon\n",
        "  as someone wins. Simulate the game.\n",
        "  \"\"\"\n",
        "  for i in generator:\n",
        "    if random.random() < p:\n",
        "      return i\n",
        "\n",
        "  return None\n",
        "\n",
        "def simulate_game(n, gen_func, p):\n",
        "  \"\"\"Simulate game n times and return % times player 0 wins.\"\"\"\n",
        "  wins = 0\n",
        "  for i in range(n):\n",
        "    if game(gen_func(), p) == 0:\n",
        "      wins += 1\n",
        "  return wins / n\n",
        "\n",
        "def derive_winning_incr(n, generator, p):\n",
        "  \"\"\"Iterate through n items from generator incrementally adding\n",
        "  the probability of winning and returning the est probability of winning (x) and\n",
        "  the probability of the game having not ended (sigma). The true probability of\n",
        "  winning is in (x, x + sigma).\n",
        "  \"\"\"\n",
        "  total = 0\n",
        "  delay = 1\n",
        "  for i in range(n):\n",
        "    result = next(generator)\n",
        "    if result == 0:\n",
        "      total += delay*p\n",
        "\n",
        "    delay *= 1 - p\n",
        "  return total, delay"
      ]
    },
    {
      "cell_type": "code",
      "source": [
        "def alternate():\n",
        "  \"\"\"Generator that alternates between 0 and 1.\"\"\"\n",
        "  while True:\n",
        "    yield 0\n",
        "    yield 1\n",
        "\n",
        "def snake():\n",
        "  \"\"\"Generator that uses snake method.\"\"\"\n",
        "  while True:\n",
        "    yield 0\n",
        "    yield 1\n",
        "    yield 1\n",
        "    yield 0\n",
        "\n",
        "def thue_morse_sequence():\n",
        "    n = 0\n",
        "    while True:\n",
        "        # Count the number of 1s in the binary representation of n\n",
        "        # The next player is determined by the parity of this count\n",
        "        count_of_ones = bin(n).count('1')\n",
        "        next_player = count_of_ones % 2\n",
        "        yield next_player\n",
        "        n += 1\n",
        "\n",
        "games = lambda : [(\"Alternate\",alternate()),\n",
        "          (\"Snake\",snake()),\n",
        "          (\"Thue Morse\",thue_morse_sequence())]"
      ],
      "metadata": {
        "id": "GQerGCDfRcLd"
      },
      "execution_count": 2,
      "outputs": []
    },
    {
      "cell_type": "code",
      "source": [
        "import itertools\n",
        "def first_n_items(generator, n):\n",
        "  \"\"\"Generator that returns first n items of generator.\"\"\"\n",
        "  return list(itertools.islice(generator, n))"
      ],
      "metadata": {
        "id": "coPC46ZbS_Fn"
      },
      "execution_count": 3,
      "outputs": []
    },
    {
      "cell_type": "code",
      "source": [
        "for name, gen in games():\n",
        "  print(name, first_n_items(gen, 16))"
      ],
      "metadata": {
        "colab": {
          "base_uri": "https://localhost:8080/"
        },
        "id": "SFPkMzVcTFNq",
        "outputId": "65b23387-3fdd-4c22-dd5f-7f117de833c8"
      },
      "execution_count": 4,
      "outputs": [
        {
          "output_type": "stream",
          "name": "stdout",
          "text": [
            "Alternate [0, 1, 0, 1, 0, 1, 0, 1, 0, 1, 0, 1, 0, 1, 0, 1]\n",
            "Snake [0, 1, 1, 0, 0, 1, 1, 0, 0, 1, 1, 0, 0, 1, 1, 0]\n",
            "Thue Morse [0, 1, 1, 0, 1, 0, 0, 1, 1, 0, 0, 1, 0, 1, 1, 0]\n"
          ]
        }
      ]
    },
    {
      "cell_type": "code",
      "source": [
        "for name, gen in games():\n",
        "  print(name, derive_winning_incr(1000, gen, 1/6))"
      ],
      "metadata": {
        "colab": {
          "base_uri": "https://localhost:8080/"
        },
        "id": "dR5mnU8-IcQx",
        "outputId": "0b9ed7de-be6f-4d16-fabd-3b5545cd497c"
      },
      "execution_count": 5,
      "outputs": [
        {
          "output_type": "stream",
          "name": "stdout",
          "text": [
            "Alternate (0.5454545454545457, 6.588005489477521e-80)\n",
            "Snake (0.5081967213114751, 6.588005489477521e-80)\n",
            "Thue Morse (0.5015903392042689, 6.588005489477521e-80)\n"
          ]
        }
      ]
    },
    {
      "cell_type": "code",
      "source": [
        "import numpy as np\n",
        "\n",
        "def conf(N, generator, p):\n",
        "  \"\"\"Generate 95% confidence interval for monte carlo simulation in simulate_game.\"\"\"\n",
        "  x = simulate_game(N, generator, p)\n",
        "  return x, x - 1.96 * np.sqrt(x * (1 - x) / N), x + 1.96 * np.sqrt(x * (1 - x) / N)"
      ],
      "metadata": {
        "id": "yquPRigwmgoF"
      },
      "execution_count": 6,
      "outputs": []
    },
    {
      "cell_type": "code",
      "source": [
        "conf(1000000, alternate, 1/6), 6/11"
      ],
      "metadata": {
        "colab": {
          "base_uri": "https://localhost:8080/"
        },
        "id": "0EUMthMTlc5C",
        "outputId": "6fc03b14-90d8-4266-8195-c08083d78d53"
      },
      "execution_count": 7,
      "outputs": [
        {
          "output_type": "execute_result",
          "data": {
            "text/plain": [
              "((0.546468, 0.5454922413571647, 0.5474437586428352), 0.5454545454545454)"
            ]
          },
          "metadata": {},
          "execution_count": 7
        }
      ]
    },
    {
      "cell_type": "code",
      "source": [
        "conf(1000000, snake, 1/6), 31/61"
      ],
      "metadata": {
        "colab": {
          "base_uri": "https://localhost:8080/"
        },
        "id": "fs7xxJ4iliVi",
        "outputId": "747cb501-d3e3-46ec-fd48-4fefc8bb9932"
      },
      "execution_count": 8,
      "outputs": [
        {
          "output_type": "execute_result",
          "data": {
            "text/plain": [
              "((0.50748, 0.5065001096689205, 0.5084598903310796), 0.5081967213114754)"
            ]
          },
          "metadata": {},
          "execution_count": 8
        }
      ]
    },
    {
      "cell_type": "code",
      "source": [
        "conf(1000000, thue_morse_sequence, 1/6)"
      ],
      "metadata": {
        "colab": {
          "base_uri": "https://localhost:8080/"
        },
        "id": "nKIbM3JFmDG6",
        "outputId": "685e9cb8-3352-4864-9633-1f1604b57684"
      },
      "execution_count": 9,
      "outputs": [
        {
          "output_type": "execute_result",
          "data": {
            "text/plain": [
              "(0.501368, 0.500388003667998, 0.5023479963320021)"
            ]
          },
          "metadata": {},
          "execution_count": 9
        }
      ]
    },
    {
      "cell_type": "code",
      "source": [
        "def min_seq(generator, max=10000):\n",
        "  \"\"\"Find the minimum sequence length where the full sequence 0 to n repeats.\n",
        "  Iterate to 2n items and check if generator[:n] == generator[n:2n]. Once this\n",
        "  is true end the loop and return n.\n",
        "  \"\"\"\n",
        "  n = 1\n",
        "  revealed_seq = []\n",
        "  while True:\n",
        "    while len(revealed_seq) < 2*n:\n",
        "      revealed_seq.append(next(generator))\n",
        "    if revealed_seq[:n] == revealed_seq[n:2*n]:\n",
        "      return n\n",
        "    if n == max:\n",
        "      return None\n",
        "    n += 1"
      ],
      "metadata": {
        "id": "KSwmPrBnT9dr"
      },
      "execution_count": 10,
      "outputs": []
    },
    {
      "cell_type": "code",
      "source": [
        "for name, gen in games():\n",
        "  print(\"Minimum sequence length for {} is {}\".format(name, min_seq(gen)))"
      ],
      "metadata": {
        "colab": {
          "base_uri": "https://localhost:8080/"
        },
        "id": "UvbiYEHUUqay",
        "outputId": "476cabcf-6b30-47be-ded5-77717595cf19"
      },
      "execution_count": 11,
      "outputs": [
        {
          "output_type": "stream",
          "name": "stdout",
          "text": [
            "Minimum sequence length for Alternate is 2\n",
            "Minimum sequence length for Snake is 4\n",
            "Minimum sequence length for Thue Morse is None\n"
          ]
        }
      ]
    }
  ]
}